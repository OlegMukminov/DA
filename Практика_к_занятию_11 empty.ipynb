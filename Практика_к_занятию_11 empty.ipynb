{
  "cells": [
    {
      "cell_type": "markdown",
      "metadata": {
        "id": "view-in-github",
        "colab_type": "text"
      },
      "source": [
        "<a href=\"https://colab.research.google.com/github/OlegMukminov/DA/blob/Lesson_11/%D0%9F%D1%80%D0%B0%D0%BA%D1%82%D0%B8%D0%BA%D0%B0_%D0%BA_%D0%B7%D0%B0%D0%BD%D1%8F%D1%82%D0%B8%D1%8E_11%20empty.ipynb\" target=\"_parent\"><img src=\"https://colab.research.google.com/assets/colab-badge.svg\" alt=\"Open In Colab\"/></a>"
      ]
    },
    {
      "cell_type": "markdown",
      "metadata": {
        "id": "pDrecLU-4QjS"
      },
      "source": [
        "# Практика"
      ]
    },
    {
      "cell_type": "markdown",
      "metadata": {
        "id": "gUvTNDlMaV-a"
      },
      "source": [
        "## Определение вероятности. События\n",
        "\n",
        "Требуется сгенерировать необходимые выборки и произвести по ним расчеты"
      ]
    },
    {
      "cell_type": "markdown",
      "metadata": {
        "id": "5V70InEBTgup"
      },
      "source": [
        "### Задача 1\n",
        "Брошено две монеты. Найти вероятность того, что монеты выпали разными сторонами"
      ]
    },
    {
      "cell_type": "code",
      "source": [
        "import pandas as pd\n",
        "import numpy as np\n",
        "import matplotlib.pyplot as plt\n",
        "import random\n",
        "import scipy.stats as sts\n",
        "%matplotlib inline\n",
        "\n",
        "import warnings\n",
        "warnings.filterwarnings('ignore')"
      ],
      "metadata": {
        "id": "QG8QKvXoKjI6"
      },
      "execution_count": 1,
      "outputs": []
    },
    {
      "cell_type": "code",
      "execution_count": 2,
      "metadata": {
        "id": "88Iw-SL3jYQV",
        "colab": {
          "base_uri": "https://localhost:8080/"
        },
        "outputId": "c7b52d5a-92b4-4270-b1d5-adb36f39cc38"
      },
      "outputs": [
        {
          "output_type": "stream",
          "name": "stdout",
          "text": [
            "вероятность, что две подброшенные монеты упали разными сторонами =  0.49972\n"
          ]
        }
      ],
      "source": [
        "#количество подбрасывания 2х монет\n",
        "N = 100000\n",
        "count = 0\n",
        "B1 = [random.choice(range(0,2)) for i in range(N)]\n",
        "B2 = [random.choice(range(0,2)) for i in range(N)]\n",
        "for i in range(N):\n",
        "  if B1[i]!=B2[i]:\n",
        "    count+=1\n",
        "print('вероятность, что две подброшенные монеты упали разными сторонами = ', count/N)"
      ]
    },
    {
      "cell_type": "markdown",
      "metadata": {
        "id": "t0XOMos2Tl0e"
      },
      "source": [
        "### Задача 2\n",
        "Брошено три монеты. Описать множество всех элементарных событий. Найти вероятности следующих событий:\n",
        "\n",
        "\n",
        "1.   A = {не выпало ни одного герба}\n",
        "2.   B = {выпало четное число гербов}\n",
        "3.   C = {на третьей монете выпал герб}\n"
      ]
    },
    {
      "cell_type": "code",
      "execution_count": 17,
      "metadata": {
        "id": "o7NjAE9uUo-L",
        "colab": {
          "base_uri": "https://localhost:8080/"
        },
        "outputId": "9cf2d67d-7285-490f-fb58-9142bd7ceab7"
      },
      "outputs": [
        {
          "output_type": "stream",
          "name": "stdout",
          "text": [
            "вероятность, не выпало ни одного герба A = 0.12441\n",
            "вероятность, выпало четное число гербов B = 0.37646\n",
            "вероятность, на третьей монете выпал герб C = 0.50058\n",
            "\n",
            "Множество элементарных событий: \n",
            " [0 0 1 1] \n",
            " [0 1 0 1]\n"
          ]
        }
      ],
      "source": [
        "#количество подбрасывания 3х монет\n",
        "# 0 - Орел, 1 - Решка\n",
        "N = 100000\n",
        "count_A = count_B = count_C = 0\n",
        "B1 = [random.choice(range(0,2)) for i in range(N)]\n",
        "B2 = [random.choice(range(0,2)) for i in range(N)]\n",
        "B3 = [random.choice(range(0,2)) for i in range(N)]\n",
        "for i in range(N):\n",
        "  if B1[i]==B2[i]==B3[i]==1:\n",
        "    count_A += 1\n",
        "  if (B1[i]==B2[i]==0 and B3[i]!=0) or (B1[i]==B3[i]==0 and B2[i]!=0) or (B2[i]==B3[i]==0 and B1[i]!=0):\n",
        "    count_B += 1\n",
        "  if B3[i] == 0:\n",
        "    count_C += 1\n",
        "\n",
        "#print(B1, '\\n',B2, '\\n',B3)\n",
        "print('вероятность, не выпало ни одного герба A =', count_A/N)\n",
        "print('вероятность, выпало четное число гербов B =', count_B/N)\n",
        "print('вероятность, на третьей монете выпал герб C =', count_C/N)\n",
        "vrem = np.unique([B1, B2], axis=1)\n",
        "print('\\nМножество элементарных событий: \\n', vrem[0],'\\n', vrem[1])"
      ]
    },
    {
      "cell_type": "markdown",
      "metadata": {
        "id": "KSjI7TFZJ4vz"
      },
      "source": [
        "Предлагается также решить задачи: \n",
        "\n",
        "### Задача 3\n",
        "Из двух претендентов E и L на ответственную должность три члена комиссии должны отобрать одного. Каждый член комиссии должен указать либо одного достойного, либо забраковать обоих. Претендент считается выбранным, если он был признана достойным хотя бы двумя членами комиссии.\n",
        "Найти вероятность событий:\n",
        "\n",
        "A = {рекомендован L}, B = {рекомендован E}\n"
      ]
    },
    {
      "cell_type": "code",
      "execution_count": 40,
      "metadata": {
        "colab": {
          "base_uri": "https://localhost:8080/"
        },
        "id": "IytmHvWzJ4v0",
        "outputId": "d0655de3-f57a-4ebc-932c-03f31b3cbcb3"
      },
      "outputs": [
        {
          "output_type": "stream",
          "name": "stdout",
          "text": [
            "вероятность, рекомендован L = 0.25819\n",
            "вероятность, рекомендован E = 0.26\n"
          ]
        }
      ],
      "source": [
        "#количество проводимых испытаний, выбор из 2 претендетов 1\n",
        "N = 100000\n",
        "count_A = count_B = 0\n",
        "B1 = [random.choice(range(0,3)) for i in range(N)]\n",
        "B2 = [random.choice(range(0,3)) for i in range(N)]\n",
        "B3 = [random.choice(range(0,3)) for i in range(N)]\n",
        "for i in range(N):\n",
        "  if (B1[i]==B2[i]==1) or (B1[i]==B3[i]==1) or (B2[i]==B3[i]==1):\n",
        "    count_B += 1\n",
        "  if (B1[i]==B2[i]==2) or (B1[i]==B3[i]==2) or (B2[i]==B3[i]==2):\n",
        "    count_A += 1\n",
        "print('вероятность, рекомендован L =', count_B/N)\n",
        "print('вероятность, рекомендован E =', count_A/N)"
      ]
    },
    {
      "cell_type": "markdown",
      "metadata": {
        "id": "peM38mVfYa5B"
      },
      "source": [
        "### Задача 4\n",
        "Брошено две игральных кости. Описать множество элементарных событий. Найти вероятности событий:\n",
        "\n",
        "A = {вышло две \"шестерки\"}\n",
        "\n",
        "B = {сумма выпавших очков не меньше 11}\n",
        "\n",
        "C = {не выпала ни одна \"шестерка\"}"
      ]
    },
    {
      "cell_type": "code",
      "execution_count": 24,
      "metadata": {
        "colab": {
          "base_uri": "https://localhost:8080/"
        },
        "id": "tUcvrz6SJ4v2",
        "outputId": "de613c0f-7e21-42f8-ce80-4e908eddf303"
      },
      "outputs": [
        {
          "output_type": "stream",
          "name": "stdout",
          "text": [
            "вероятность, вышло две \"шестерки\" A = 0.02853\n",
            "вероятность, сумма выпавших очков не меньше 11 B = 0.08375\n",
            "вероятность, не выпала ни одна \"шестерка C = 0.69559\n",
            "\n",
            "Множество элементарных событий: \n",
            " [1 1 1 1 1 1 2 2 2 2 2 2 3 3 3 3 3 3 4 4 4 4 4 4 5 5 5 5 5 5 6 6 6 6 6 6] \n",
            " [1 2 3 4 5 6 1 2 3 4 5 6 1 2 3 4 5 6 1 2 3 4 5 6 1 2 3 4 5 6 1 2 3 4 5 6]\n"
          ]
        }
      ],
      "source": [
        "#количество подбрасывания 2х костей\n",
        "N = 100000\n",
        "count_A = count_B = count_C = 0\n",
        "B1 = [random.choice(range(1,7)) for i in range(N)]\n",
        "B2 = [random.choice(range(1,7)) for i in range(N)]\n",
        "for i in range(N):\n",
        "  if B1[i]==B2[i]==6:\n",
        "    count_A += 1\n",
        "  if (B1[i] + B2[i]) >= 11:\n",
        "    count_B += 1\n",
        "  if (B1[i] != 6) and (B2[i] != 6):\n",
        "    count_C += 1\n",
        "print('вероятность, вышло две \"шестерки\" A =', count_A/N)\n",
        "print('вероятность, сумма выпавших очков не меньше 11 B =', count_B/N)\n",
        "print('вероятность, не выпала ни одна \"шестерка C =', count_C/N)\n",
        "\n",
        "vrem = np.unique([B1, B2], axis=1)\n",
        "print('\\nМножество элементарных событий: \\n', vrem[0],'\\n', vrem[1])"
      ]
    },
    {
      "cell_type": "markdown",
      "metadata": {
        "id": "f-Bi0p8haclB"
      },
      "source": [
        "## Вероятность суммы событий"
      ]
    },
    {
      "cell_type": "markdown",
      "metadata": {
        "id": "g7A7QlvGTnwZ"
      },
      "source": [
        "### Задача 5\n",
        "Брошены две игральные кости. Найти вероятность события D = {выпала хотя бы одна шестёрка}\n"
      ]
    },
    {
      "cell_type": "code",
      "execution_count": 46,
      "metadata": {
        "id": "vjtTJN-kUp9D",
        "colab": {
          "base_uri": "https://localhost:8080/"
        },
        "outputId": "d91ead94-f2f2-49c9-dfe2-ab4fc5b589f7"
      },
      "outputs": [
        {
          "output_type": "stream",
          "name": "stdout",
          "text": [
            "вероятность, выпала хотя бы одна шестёрка D = 0.3063\n"
          ]
        }
      ],
      "source": [
        "#количество подбрасывания 2х костей\n",
        "N = 100000\n",
        "count_A = 0\n",
        "B1 = [random.choice(range(1,7)) for i in range(N)]\n",
        "B2 = [random.choice(range(1,7)) for i in range(N)]\n",
        "for i in range(N):\n",
        "  if (B1[i]== 6) or (B2[i]==6):\n",
        "    count_A += 1\n",
        "print('вероятность, выпала хотя бы одна шестёрка D =', count_A/N)"
      ]
    },
    {
      "cell_type": "markdown",
      "metadata": {
        "id": "R1bYSzQQbC6I"
      },
      "source": [
        "Предлагается также решить задачи: \n",
        "\n",
        "### Задача 6\n",
        "В телефонном номере три последние цифры стерлись. Считая, что все возможные значения стершихся цифр равновероятны, найти вероятность событий:\n",
        "\n",
        "A = {Стерлись различные цифры},\n",
        "\n",
        "B = {Стерлись одинаковые цифры},\n",
        "\n",
        "C = {Среди стершихся цифр хотя бы две совпадают},\n",
        "\n",
        "D = {Среди стершихся цифр хотя бы две различны}\n"
      ]
    },
    {
      "cell_type": "code",
      "execution_count": 58,
      "metadata": {
        "colab": {
          "base_uri": "https://localhost:8080/"
        },
        "id": "dSPAqibAJ4v7",
        "outputId": "706c7101-4008-4d86-bd61-1a8973eccb95"
      },
      "outputs": [
        {
          "output_type": "stream",
          "name": "stdout",
          "text": [
            "вероятность, Стерлись различные цифры A = 0.72003\n",
            "вероятность, Стерлись одинаковые цифры B = 0.00997\n",
            "вероятность, Среди стершихся цифр хотя бы две совпадают C = 0.27997\n",
            "вероятность, Среди стершихся цифр хотя бы две различны D = 0.99003\n"
          ]
        }
      ],
      "source": [
        "#количество испытаний\n",
        "N = 100000\n",
        "count_A = count_B = count_C = count_D = 0\n",
        "B1 = [random.choice(range(0,10)) for i in range(N)]\n",
        "B2 = [random.choice(range(0,10)) for i in range(N)]\n",
        "B3 = [random.choice(range(0,10)) for i in range(N)]\n",
        "for i in range(N):\n",
        "  if (B1[i] != B2[i]) and (B1[i] != B3[i]) and (B2[i] != B3[i]) :\n",
        "    count_A += 1\n",
        "  if B1[i] == B2[i] == B3[i]:\n",
        "    count_B += 1\n",
        "  if (B1[i]== B2[i]) or (B1[i] == B3[i]) or (B2[i] == B3[i]):\n",
        "    count_C += 1\n",
        "  if (B1[i]!= B2[i]) or (B1[i] != B3[i]) or (B2[i] != B3[i]):\n",
        "    count_D += 1\n",
        "print('вероятность, Стерлись различные цифры A =', count_A/N)\n",
        "print('вероятность, Стерлись одинаковые цифры B =', count_B/N)\n",
        "print('вероятность, Среди стершихся цифр хотя бы две совпадают C =', count_C/N)\n",
        "print('вероятность, Среди стершихся цифр хотя бы две различны D =', count_D/N)"
      ]
    },
    {
      "cell_type": "markdown",
      "metadata": {
        "id": "RnugkR8BalK_"
      },
      "source": [
        "## Случайные величины"
      ]
    },
    {
      "cell_type": "markdown",
      "metadata": {
        "id": "yLoZDZ17UVsp"
      },
      "source": [
        "### Задача 7\n",
        "В лотерее имеется 10 билетов, из которых один выигрышный. Размер выигрыша 10 ден. ед.; стоимость билета 1 ден ед. Найти закон распределения случайной величины X, равной чистому выигрышу участника лотереи, который вытаскивает билет первым."
      ]
    },
    {
      "cell_type": "code",
      "execution_count": null,
      "metadata": {
        "id": "oNk432sKUqzT"
      },
      "outputs": [],
      "source": [
        ""
      ]
    },
    {
      "cell_type": "markdown",
      "metadata": {
        "id": "U-NK9liSbpvb"
      },
      "source": [
        "Предлагается также решить задачу: \n",
        "\n",
        "### Задача 8\n",
        "Брошены две игральные кости. Найти закон распределения случайной величины $X$, равной сумме выпавших очков. Найти вероятности событий ${X <= 4}$, ${X > 4}$"
      ]
    },
    {
      "cell_type": "code",
      "execution_count": 29,
      "metadata": {
        "colab": {
          "base_uri": "https://localhost:8080/",
          "height": 300
        },
        "id": "sqJqTcJvJ4v9",
        "outputId": "0d4a8104-fcb2-4ee2-91db-f0a4526d588a"
      },
      "outputs": [
        {
          "output_type": "stream",
          "name": "stdout",
          "text": [
            "вероятность события  X<=4 0.16879\n",
            "вероятность события  X>4 0.83121\n"
          ]
        },
        {
          "output_type": "display_data",
          "data": {
            "text/plain": [
              "<Figure size 432x288 with 1 Axes>"
            ],
            "image/png": "[encoded data removed]"
          },
          "metadata": {
            "needs_background": "light"
          }
        }
      ],
      "source": [
        "#количество подбрасывания 2х костей\n",
        "N = 100000\n",
        "count_A = count_B = 0\n",
        "B1 = [random.choice(range(1,7)) for i in range(N)]\n",
        "B2 = [random.choice(range(1,7)) for i in range(N)]\n",
        "B3 = [B1[i] + B2[i] for i in range(N)]\n",
        "A = {i: B3.count(i)/N for i in range(2,13)}\n",
        "A2 = {i: B3.count(i) for i in range(2,13)}\n",
        "#print(A)\n",
        "plt.bar(range(len(A)), list(A.values()), align='center')\n",
        "plt.xticks(range(len(A)), list(A.keys()))\n",
        "plt.plot()\n",
        "\n",
        "for key, value in A2.items():\n",
        "  if key <= 4:\n",
        "    count_A += value\n",
        "  else:\n",
        "    count_B += value\n",
        "\n",
        "print('вероятность события  X<=4', count_A/N)\n",
        "print('вероятность события  X>4', count_B/N)"
      ]
    },
    {
      "cell_type": "markdown",
      "metadata": {
        "id": "shgW4D83awjK"
      },
      "source": [
        "## Условные вероятности"
      ]
    },
    {
      "cell_type": "markdown",
      "metadata": {
        "id": "Fbu1RFZwWZrk"
      },
      "source": [
        "### Задача 9\n",
        "Из колоды (36 карт) вынимают последовательно без возвращения две карты. Найти вероятность того, что первой картой была шестерка, а второй — семерка. Найти условную вероятность того же события при условии, что обе карты бубновой масти.\n"
      ]
    },
    {
      "cell_type": "code",
      "execution_count": null,
      "metadata": {
        "id": "037o56awW9-E"
      },
      "outputs": [],
      "source": [
        ""
      ]
    },
    {
      "cell_type": "markdown",
      "metadata": {
        "id": "hNVxtaz5c57b"
      },
      "source": [
        "Предлагается также решить задачу: \n",
        "\n",
        "### Задача 10\n",
        "Из урны, содержащей два белых и три черных шара, последовательно извлекают два шара; вынутые шары не возвращаются. Если первый шар оказался черным, то перед вторым извлечением в урну добавляют белый шар. В противном случае состав оставшихся шаров не меняют. Найти вероятности событий:\n",
        "\n",
        "$A$ = {извлечены два белых шара},\n",
        "\n",
        "$B$ = {извлечены два черных шара}\n",
        "\n",
        "Указание. Пусть событие $C_1$ = {первый шар белый}, событие $C_2$ = {второй шар белый}. Тогда $A = C_1C_2$, $B = \\overline C_1 \\overline C_2$ "
      ]
    },
    {
      "cell_type": "code",
      "execution_count": null,
      "metadata": {
        "id": "WSLnhk2sdBt_"
      },
      "outputs": [],
      "source": [
        ""
      ]
    }
  ],
  "metadata": {
    "colab": {
      "collapsed_sections": [],
      "name": "Практика к занятию 11.ipynb",
      "provenance": [],
      "include_colab_link": true
    },
    "kernelspec": {
      "display_name": "Python 3",
      "language": "python",
      "name": "python3"
    },
    "language_info": {
      "codemirror_mode": {
        "name": "ipython",
        "version": 3
      },
      "file_extension": ".py",
      "mimetype": "text/x-python",
      "name": "python",
      "nbconvert_exporter": "python",
      "pygments_lexer": "ipython3",
      "version": "3.7.6"
    }
  },
  "nbformat": 4,
  "nbformat_minor": 0
}